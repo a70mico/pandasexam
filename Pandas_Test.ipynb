{
 "cells": [
  {
   "cell_type": "code",
   "execution_count": 1,
   "metadata": {},
   "outputs": [],
   "source": [
    "# Step 0. Import libraries and custom modules\n",
    "import pandas as pd\n",
    "import numpy as np\n",
    "import matplotlib.pyplot as plt\n",
    "import seaborn as sns"
   ]
  },
  {
   "cell_type": "code",
   "execution_count": 4,
   "metadata": {},
   "outputs": [
    {
     "name": "stdout",
     "output_type": "stream",
     "text": [
      "<class 'pandas.core.frame.DataFrame'>\n",
      "RangeIndex: 1000 entries, 0 to 999\n",
      "Data columns (total 5 columns):\n",
      " #   Column  Non-Null Count  Dtype         \n",
      "---  ------  --------------  -----         \n",
      " 0   Date    1000 non-null   datetime64[ns]\n",
      " 1   Region  1000 non-null   object        \n",
      " 2   Type    1000 non-null   object        \n",
      " 3   Units   911 non-null    float64       \n",
      " 4   Sales   1000 non-null   int64         \n",
      "dtypes: datetime64[ns](1), float64(1), int64(1), object(2)\n",
      "memory usage: 39.2+ KB\n"
     ]
    }
   ],
   "source": [
    "# Step 1. Load data, show info and sample\n",
    "# 1.1 Read data\n",
    "df_raw = pd.read_excel(\n",
    "   'https://github.com/datagy/mediumdata/raw/master/sample_pivot.xlsx', \n",
    "   parse_dates=['Date']\n",
    ")\n",
    "df_raw.info()"
   ]
  },
  {
   "cell_type": "code",
   "execution_count": 5,
   "metadata": {},
   "outputs": [
    {
     "data": {
      "text/html": [
       "<div>\n",
       "<style scoped>\n",
       "    .dataframe tbody tr th:only-of-type {\n",
       "        vertical-align: middle;\n",
       "    }\n",
       "\n",
       "    .dataframe tbody tr th {\n",
       "        vertical-align: top;\n",
       "    }\n",
       "\n",
       "    .dataframe thead th {\n",
       "        text-align: right;\n",
       "    }\n",
       "</style>\n",
       "<table border=\"1\" class=\"dataframe\">\n",
       "  <thead>\n",
       "    <tr style=\"text-align: right;\">\n",
       "      <th></th>\n",
       "      <th>Date</th>\n",
       "      <th>Region</th>\n",
       "      <th>Type</th>\n",
       "      <th>Units</th>\n",
       "      <th>Sales</th>\n",
       "    </tr>\n",
       "  </thead>\n",
       "  <tbody>\n",
       "    <tr>\n",
       "      <th>681</th>\n",
       "      <td>2020-11-27</td>\n",
       "      <td>East</td>\n",
       "      <td>Children's Clothing</td>\n",
       "      <td>32.0</td>\n",
       "      <td>342</td>\n",
       "    </tr>\n",
       "    <tr>\n",
       "      <th>990</th>\n",
       "      <td>2020-12-17</td>\n",
       "      <td>North</td>\n",
       "      <td>Children's Clothing</td>\n",
       "      <td>7.0</td>\n",
       "      <td>217</td>\n",
       "    </tr>\n",
       "    <tr>\n",
       "      <th>155</th>\n",
       "      <td>2020-06-13</td>\n",
       "      <td>East</td>\n",
       "      <td>Children's Clothing</td>\n",
       "      <td>30.0</td>\n",
       "      <td>336</td>\n",
       "    </tr>\n",
       "    <tr>\n",
       "      <th>768</th>\n",
       "      <td>2020-06-25</td>\n",
       "      <td>North</td>\n",
       "      <td>Women's Clothing</td>\n",
       "      <td>5.0</td>\n",
       "      <td>644</td>\n",
       "    </tr>\n",
       "    <tr>\n",
       "      <th>438</th>\n",
       "      <td>2020-10-07</td>\n",
       "      <td>North</td>\n",
       "      <td>Women's Clothing</td>\n",
       "      <td>30.0</td>\n",
       "      <td>462</td>\n",
       "    </tr>\n",
       "  </tbody>\n",
       "</table>\n",
       "</div>"
      ],
      "text/plain": [
       "          Date Region                 Type  Units  Sales\n",
       "681 2020-11-27   East  Children's Clothing   32.0    342\n",
       "990 2020-12-17  North  Children's Clothing    7.0    217\n",
       "155 2020-06-13   East  Children's Clothing   30.0    336\n",
       "768 2020-06-25  North     Women's Clothing    5.0    644\n",
       "438 2020-10-07  North     Women's Clothing   30.0    462"
      ]
     },
     "execution_count": 5,
     "metadata": {},
     "output_type": "execute_result"
    }
   ],
   "source": [
    "# 1.2 Show sample\n",
    "df_raw.sample(5, random_state=1234)"
   ]
  },
  {
   "cell_type": "code",
   "execution_count": 6,
   "metadata": {},
   "outputs": [],
   "source": [
    "# Step 2. Transform to standard format\n",
    "# 2.1 Create a pandas chain to convert to final form\n",
    "df = (\n",
    "    df_raw\n",
    "    .copy()\n",
    "    .set_axis(\n",
    "        df_raw\n",
    "        .columns.str.lower()\n",
    "        .str.replace(' ','_')\n",
    "        .str.replace(r'\\W','',regex=True)\n",
    "        .str.slice(0,40), axis=1\n",
    "    )\n",
    "    .astype({'region':'category', \n",
    "             'type':'category'})\n",
    "    .assign(\n",
    "        date = lambda x: pd.to_datetime(x['date'], format='%Y-%m-%d')\n",
    "    )\n",
    "    .set_index('date')\n",
    ")"
   ]
  },
  {
   "cell_type": "code",
   "execution_count": 7,
   "metadata": {},
   "outputs": [
    {
     "name": "stdout",
     "output_type": "stream",
     "text": [
      "Numerical Summary:\n",
      "            units        sales\n",
      "count  911.000000  1000.000000\n",
      "mean    19.638858   427.254000\n",
      "std      9.471309   253.441362\n",
      "min      3.000000    33.000000\n",
      "25%     12.000000   224.000000\n",
      "50%     20.000000   380.000000\n",
      "75%     28.000000   575.000000\n",
      "max     35.000000  1155.000000\n",
      "\n",
      "Categorical Summary:\n",
      "       region              type\n",
      "count    1000              1000\n",
      "unique      4                 3\n",
      "top      East  Women's Clothing\n",
      "freq      411               424\n"
     ]
    }
   ],
   "source": [
    "# Step 3. Perform busines analysis\n",
    "# 3.1 Get the summary, for categorical and numerical columns\n",
    "\n",
    "# Resumen de columnas numéricas\n",
    "numerical_summary = df.describe()\n",
    "\n",
    "# Resumen de columnas categóricas\n",
    "categorical_summary = df.describe(include=['category'])\n",
    "\n",
    "# Mostrar ambos resúmenes\n",
    "print(\"Numerical Summary:\")\n",
    "print(numerical_summary)\n",
    "\n",
    "print(\"\\nCategorical Summary:\")\n",
    "print(categorical_summary)\n"
   ]
  },
  {
   "cell_type": "code",
   "execution_count": 13,
   "metadata": {},
   "outputs": [
    {
     "name": "stdout",
     "output_type": "stream",
     "text": [
      "Index(['region', 'type', 'units', 'sales'], dtype='object')\n"
     ]
    }
   ],
   "source": [
    "print(df.columns)\n"
   ]
  },
  {
   "cell_type": "code",
   "execution_count": null,
   "metadata": {},
   "outputs": [
    {
     "name": "stdout",
     "output_type": "stream",
     "text": [
      "Total Sales Sum: 427254\n"
     ]
    }
   ],
   "source": [
    "# 3.2 Get the sum of total sales\n",
    "\n",
    "total_sales_sum = df['sales'].sum()\n",
    "\n",
    "print(\"Total Sales Sum:\", total_sales_sum)\n",
    "\n",
    "\n"
   ]
  },
  {
   "cell_type": "code",
   "execution_count": null,
   "metadata": {},
   "outputs": [
    {
     "name": "stdout",
     "output_type": "stream",
     "text": [
      "Average Sales: 427.254\n"
     ]
    }
   ],
   "source": [
    "# 3.3 Get the average of sales\n",
    "\n",
    "average_sales = df['sales'].mean() \n",
    "\n",
    "print(\"Average Sales:\", average_sales)\n"
   ]
  },
  {
   "cell_type": "code",
   "execution_count": 20,
   "metadata": {},
   "outputs": [
    {
     "name": "stdout",
     "output_type": "stream",
     "text": [
      "Sum of Sales by Region:\n",
      "region\n",
      "East     167763\n",
      "North    138700\n",
      "South     59315\n",
      "West      61476\n",
      "Name: sales, dtype: int64\n"
     ]
    }
   ],
   "source": [
    "# 3.4 Get the sum of sales by region\n",
    "\n",
    "sales_by_region = df.groupby('region', observed=True)['sales'].sum()\n",
    "\n",
    "print(\"Sum of Sales by Region:\")\n",
    "print(sales_by_region)\n",
    "\n",
    "\n",
    "\n"
   ]
  },
  {
   "cell_type": "code",
   "execution_count": 22,
   "metadata": {},
   "outputs": [
    {
     "name": "stdout",
     "output_type": "stream",
     "text": [
      "Average Sales by Region:\n",
      "  Region  Average Sales\n",
      "0   East     408.182482\n",
      "1  North     438.924051\n",
      "2  South     432.956204\n",
      "3   West     452.029412\n"
     ]
    }
   ],
   "source": [
    "# 3.4 Get the average sales by region\n",
    "\n",
    "average_sales_by_region = df.groupby('region', observed=True)['sales'].mean()\n",
    "average_sales_by_region_df = average_sales_by_region.reset_index()\n",
    "average_sales_by_region_df.columns = ['Region', 'Average Sales']\n",
    "\n",
    "print(\"Average Sales by Region:\")\n",
    "print(average_sales_by_region_df)\n"
   ]
  },
  {
   "cell_type": "code",
   "execution_count": null,
   "metadata": {},
   "outputs": [
    {
     "name": "stdout",
     "output_type": "stream",
     "text": [
      "Sum, Mean, and Count of Sales by Region:\n",
      "        Total Sales  Average Sales  Sales Count\n",
      "region                                         \n",
      "East         167763     408.182482          411\n",
      "North        138700     438.924051          316\n",
      "South         59315     432.956204          137\n",
      "West          61476     452.029412          136\n"
     ]
    }
   ],
   "source": [
    "# 3.5 Get the sum, mean and count of sales by region\n",
    "\n",
    "\n",
    "sales_stats_by_region = df.groupby('region', observed=True)['sales'].agg(['sum', 'mean', 'count'])\n",
    "\n",
    "sales_stats_by_region.columns = ['Total Sales', 'Average Sales', 'Sales Count']\n",
    "\n",
    "print(\"Sum, Mean, and Count of Sales by Region:\")\n",
    "print(sales_stats_by_region)\n"
   ]
  },
  {
   "cell_type": "code",
   "execution_count": 26,
   "metadata": {},
   "outputs": [
    {
     "name": "stdout",
     "output_type": "stream",
     "text": [
      "Total Units by Type:\n",
      "                      units\n",
      "type                       \n",
      "Children's Clothing  5887.0\n",
      "Men's Clothing       3974.0\n",
      "Women's Clothing     8030.0\n"
     ]
    }
   ],
   "source": [
    "# 3.6 Create a pivot table that gets total units by type\n",
    "\n",
    "\n",
    "pivot_units_by_type = df.pivot_table(values='units', index='type', aggfunc='sum', observed=True)\n",
    "\n",
    "print(\"Total Units by Type:\")\n",
    "print(pivot_units_by_type)\n",
    "\n"
   ]
  },
  {
   "cell_type": "code",
   "execution_count": 27,
   "metadata": {},
   "outputs": [
    {
     "name": "stdout",
     "output_type": "stream",
     "text": [
      "Dataset for East Region:\n",
      "           region                 type  units  sales\n",
      "date                                                \n",
      "2020-07-11   East  Children's Clothing   18.0    306\n",
      "2020-02-28   East  Children's Clothing   26.0    832\n",
      "2020-03-25   East     Women's Clothing   29.0    609\n",
      "2020-11-03   East  Children's Clothing   34.0    374\n",
      "2020-05-01   East       Men's Clothing   10.0    140\n",
      "...           ...                  ...    ...    ...\n",
      "2020-03-20   East       Men's Clothing   14.0    238\n",
      "2020-06-05   East  Children's Clothing   11.0    220\n",
      "2020-05-04   East       Men's Clothing    6.0    108\n",
      "2020-10-18   East     Women's Clothing   19.0    399\n",
      "2020-02-11   East  Children's Clothing   35.0    735\n",
      "\n",
      "[411 rows x 4 columns]\n"
     ]
    }
   ],
   "source": [
    "# 3.7 Display the dataset showing only the East region\n",
    "\n",
    "east_region_data = df[df['region'] == 'East']\n",
    "\n",
    "print(\"Dataset for East Region:\")\n",
    "print(east_region_data)\n"
   ]
  },
  {
   "cell_type": "code",
   "execution_count": 28,
   "metadata": {},
   "outputs": [
    {
     "name": "stdout",
     "output_type": "stream",
     "text": [
      "Dataset for East and West Regions:\n",
      "           region                 type  units  sales\n",
      "date                                                \n",
      "2020-07-11   East  Children's Clothing   18.0    306\n",
      "2020-02-28   East  Children's Clothing   26.0    832\n",
      "2020-03-19   West     Women's Clothing    3.0     33\n",
      "2020-03-25   East     Women's Clothing   29.0    609\n",
      "2020-11-03   East  Children's Clothing   34.0    374\n",
      "...           ...                  ...    ...    ...\n",
      "2020-02-08   West       Men's Clothing   32.0    928\n",
      "2020-05-04   East       Men's Clothing    6.0    108\n",
      "2020-11-17   West       Men's Clothing   27.0    486\n",
      "2020-10-18   East     Women's Clothing   19.0    399\n",
      "2020-02-11   East  Children's Clothing   35.0    735\n",
      "\n",
      "[547 rows x 4 columns]\n"
     ]
    }
   ],
   "source": [
    "# 3.8 Display the dataset showing only the East and West regions\n",
    "\n",
    "\n",
    "east_west_region_data = df[df['region'].isin(['East', 'West'])]\n",
    "\n",
    "print(\"Dataset for East and West Regions:\")\n",
    "print(east_west_region_data)\n"
   ]
  },
  {
   "cell_type": "code",
   "execution_count": 29,
   "metadata": {},
   "outputs": [
    {
     "name": "stdout",
     "output_type": "stream",
     "text": [
      "Dataset for East Region with Units Over 30:\n",
      "           region                 type  units  sales\n",
      "date                                                \n",
      "2020-11-03   East  Children's Clothing   34.0    374\n",
      "2020-06-12   East     Women's Clothing   35.0   1050\n",
      "2020-05-11   East       Men's Clothing   35.0    700\n",
      "2020-06-14   East       Men's Clothing   32.0    416\n",
      "2020-10-28   East       Men's Clothing   34.0    986\n",
      "...           ...                  ...    ...    ...\n",
      "2020-02-24   East     Women's Clothing   32.0    693\n",
      "2020-08-13   East       Men's Clothing   32.0    132\n",
      "2020-10-04   East       Men's Clothing   35.0    350\n",
      "2020-10-20   East       Men's Clothing   32.0    928\n",
      "2020-02-11   East  Children's Clothing   35.0    735\n",
      "\n",
      "[70 rows x 4 columns]\n"
     ]
    }
   ],
   "source": [
    "# 3.9 Display the dataset showing East sales with units over 30 \n",
    "\n",
    "east_sales_over_30_units = df[(df['region'] == 'East') & (df['units'] > 30)]\n",
    "\n",
    "print(\"Dataset for East Region with Units Over 30:\")\n",
    "print(east_sales_over_30_units)\n"
   ]
  },
  {
   "cell_type": "code",
   "execution_count": 31,
   "metadata": {},
   "outputs": [
    {
     "name": "stdout",
     "output_type": "stream",
     "text": [
      "Updated Dataset with Units Corrected:\n",
      "           region                 type  units  sales\n",
      "date                                                \n",
      "2020-07-21   East     Women's Clothing    7.0    240\n",
      "2020-08-01  North     Women's Clothing   20.0     57\n",
      "2020-12-26  North       Men's Clothing    NaN    275\n",
      "2020-05-16  South  Children's Clothing   30.0    529\n",
      "2020-02-15  North     Women's Clothing    6.0    380\n",
      "2020-08-06  South     Women's Clothing   28.0    546\n",
      "2020-02-09  South     Women's Clothing   10.0    754\n",
      "2020-12-17   East     Women's Clothing   28.0     60\n",
      "2020-05-28   West     Women's Clothing   14.0    128\n",
      "2020-03-03   East     Women's Clothing    8.0    432\n"
     ]
    }
   ],
   "source": [
    "# 3.10 A data corruption has been detected. Add 1 to all units. \n",
    "\n",
    "\n",
    "df['units'] = df['units'] + 1\n",
    "\n",
    "print(\"Updated Dataset with Units Corrected:\")\n",
    "print(df.sample(10))\n"
   ]
  },
  {
   "cell_type": "code",
   "execution_count": 32,
   "metadata": {},
   "outputs": [
    {
     "name": "stdout",
     "output_type": "stream",
     "text": [
      "Updated Dataset with Units Corrected in West Region:\n",
      "           region                 type  units  sales\n",
      "date                                                \n",
      "2020-02-14   West  Children's Clothing   34.0    910\n",
      "2020-03-29   West  Children's Clothing   22.0    261\n",
      "2020-12-19   West     Women's Clothing   13.0    800\n",
      "2020-08-30   West  Children's Clothing   25.0     60\n",
      "2020-11-17   West  Children's Clothing   27.0    990\n"
     ]
    }
   ],
   "source": [
    "# 3.11 Another issue was detected, in West region add 2 to all units\n",
    "\n",
    "df.loc[df['region'] == 'West', 'units'] += 2\n",
    "\n",
    "\n",
    "print(\"Updated Dataset with Units Corrected in West Region:\")\n",
    "print(df[df['region'] == 'West'].sample(5))\n"
   ]
  }
 ],
 "metadata": {
  "kernelspec": {
   "display_name": ".venv",
   "language": "python",
   "name": "python3"
  },
  "language_info": {
   "codemirror_mode": {
    "name": "ipython",
    "version": 3
   },
   "file_extension": ".py",
   "mimetype": "text/x-python",
   "name": "python",
   "nbconvert_exporter": "python",
   "pygments_lexer": "ipython3",
   "version": "3.12.1"
  }
 },
 "nbformat": 4,
 "nbformat_minor": 2
}
